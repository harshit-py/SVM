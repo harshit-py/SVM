{
 "cells": [
  {
   "cell_type": "code",
   "execution_count": 51,
   "metadata": {
    "collapsed": true
   },
   "outputs": [],
   "source": [
    "import numpy as np\n",
    "import matplotlib.pyplot as plt\n",
    "from scipy.io import loadmat\n",
    "import re\n",
    "import nltk, nltk.stem\n",
    "import sklearn.svm as svm\n",
    "\n",
    "%matplotlib inline"
   ]
  },
  {
   "cell_type": "code",
   "execution_count": 2,
   "metadata": {
    "collapsed": true
   },
   "outputs": [],
   "source": [
    "def processEmail(email):\n",
    "    '''Cleaning up text:\n",
    "    • Lower-casing\n",
    "    • Stripping HTML: we remove all the HTML tags, so that only the content remains.\n",
    "    • Normalizing URLs: All URLs replaced with “httpaddr”.\n",
    "    • Normalizing Email Addresses: All emails replaced with \"emailaddr”.\n",
    "    • Normalizing Numbers: All numbers replaced with “number”.\n",
    "    • Normalizing Dollars: All($)replaced with “dollar”'''\n",
    "    \n",
    "    email = email.lower()\n",
    "    #strip tags\n",
    "    email = re.sub(r'<[^<>]+>', ' ', email)\n",
    "    #Replace URLs with \"httpaddr\"\n",
    "    email = re.sub(r'(http|https)://[^\\s]*', 'httpaddr', email)\n",
    "    #Replace email with \"emailaddr\"\n",
    "    email = re.sub(r'[^\\s]+@[^\\s]+', \"emailaddr\", email)\n",
    "    #Replace numbers with \"number\"\n",
    "    email = re.sub(r'[\\d]+', \"number \", email)\n",
    "    #Replace '$' with \"dollar\"\n",
    "    email = re.sub(r'[$]+', \"dollar \", email)\n",
    "    #Remove literal escape characters\n",
    "    email = re.sub(r'\\\\[nrtfv]', \" \", email)\n",
    "    \n",
    "    return email"
   ]
  },
  {
   "cell_type": "code",
   "execution_count": 9,
   "metadata": {
    "collapsed": false
   },
   "outputs": [],
   "source": [
    "def tokenizeAndStem(email):\n",
    "    '''Process the email, tokenize it and stem it'''\n",
    "    \n",
    "    #instantiate the stemmer\n",
    "    stemmer = nltk.stem.porter.PorterStemmer()\n",
    "    \n",
    "    email = processEmail(email)\n",
    "    tokens = re.split('[ \\@\\$\\/\\#\\.\\-\\:\\&\\*\\+\\=\\[\\]\\?\\!\\(\\)\\{\\}\\,\\'\\\"\\>\\_\\<\\;\\%]', email)\n",
    "    token_list = []\n",
    "    \n",
    "    for token in tokens:\n",
    "        #remove any non alpha character still left\n",
    "        token = re.sub(r'[^a-zA-Z]+', ' ', token)\n",
    "        token = token.strip()\n",
    "        \n",
    "        #Get the stem words from the Porter algo\n",
    "        stemmed = stemmer.stem(token)\n",
    "        token_list.append(stemmed)\n",
    "    return token_list"
   ]
  },
  {
   "cell_type": "code",
   "execution_count": 81,
   "metadata": {
    "collapsed": true
   },
   "outputs": [],
   "source": [
    "def vocabDict(reverse=False):\n",
    "    '''Returns a dictionary with key as index and value as word if reverse = True\n",
    "    else vice versa'''\n",
    "    \n",
    "    vocab = {}\n",
    "    with open('../Coursera/ML_NG/machine-learning-ex6/ex6/vocab.txt') as fo:\n",
    "        for line in fo:\n",
    "            idx, word = line.split()\n",
    "            if reverse:\n",
    "                vocab[int(idx)] = word\n",
    "            else:\n",
    "                vocab[word] = int(idx)\n",
    "    return vocab"
   ]
  },
  {
   "cell_type": "code",
   "execution_count": 43,
   "metadata": {
    "collapsed": false
   },
   "outputs": [],
   "source": [
    "def textToVec(email):\n",
    "    '''Takes an email text as an input, process it stem and tokenize it and return a vector'''\n",
    "    cleaned_email = processEmail(email)\n",
    "    vocablist = tokenizeAndStem(cleaned_email)\n",
    "    vocab_dict = vocabDict()\n",
    "\n",
    "    vec = np.zeros((len(vocab_dict), 1))\n",
    "    vec_idx = np.array([int(vocab_dict[word]) for word in vocablist if word is not '' and word in vocab_dict])\n",
    "    vec[vec_idx] = 1\n",
    "    return vec"
   ]
  },
  {
   "cell_type": "code",
   "execution_count": 45,
   "metadata": {
    "collapsed": false
   },
   "outputs": [
    {
     "name": "stdout",
     "output_type": "stream",
     "text": [
      "1899\n",
      "[48]\n"
     ]
    }
   ],
   "source": [
    "#Read the first email file\n",
    "with open('../Coursera/ML_NG/machine-learning-ex6/ex6/spamSample1.txt') as f:\n",
    "    email1 = f.read()\n",
    "vec_1 = textToVec(email1)\n",
    "print(len(vec_1))\n",
    "print(sum(vec_1==1))"
   ]
  },
  {
   "cell_type": "markdown",
   "metadata": {},
   "source": [
    "Read the train and test files"
   ]
  },
  {
   "cell_type": "code",
   "execution_count": 49,
   "metadata": {
    "collapsed": false
   },
   "outputs": [],
   "source": [
    "Xtest = loadmat('../Coursera/ML_NG/machine-learning-ex6/ex6/spamTest.mat')\n",
    "X_test = Xtest['Xtest']\n",
    "y_test = Xtest['ytest']\n",
    "\n",
    "Xtrain = loadmat('../Coursera/ML_NG/machine-learning-ex6/ex6/spamTrain.mat')\n",
    "X_train = Xtrain['X']\n",
    "y_train = Xtrain['y']\n"
   ]
  },
  {
   "cell_type": "code",
   "execution_count": 52,
   "metadata": {
    "collapsed": false
   },
   "outputs": [
    {
     "name": "stderr",
     "output_type": "stream",
     "text": [
      "/Users/harshit/anaconda/lib/python2.7/site-packages/sklearn/utils/validation.py:526: DataConversionWarning: A column-vector y was passed when a 1d array was expected. Please change the shape of y to (n_samples, ), for example using ravel().\n",
      "  y = column_or_1d(y, warn=True)\n"
     ]
    },
    {
     "data": {
      "text/plain": [
       "SVC(C=0.1, cache_size=200, class_weight=None, coef0=0.0,\n",
       "  decision_function_shape=None, degree=3, gamma='auto', kernel='linear',\n",
       "  max_iter=-1, probability=False, random_state=None, shrinking=True,\n",
       "  tol=0.001, verbose=False)"
      ]
     },
     "execution_count": 52,
     "metadata": {},
     "output_type": "execute_result"
    }
   ],
   "source": [
    "linear_svm = svm.SVC(kernel='linear', C=0.1)\n",
    "linear_svm.fit(X_train, y_train)"
   ]
  },
  {
   "cell_type": "code",
   "execution_count": 58,
   "metadata": {
    "collapsed": false
   },
   "outputs": [
    {
     "name": "stdout",
     "output_type": "stream",
     "text": [
      "Test accuracy 0.989\n",
      "Train accuracy 0.998\n"
     ]
    }
   ],
   "source": [
    "print('Test accuracy %0.3f' %linear_svm.score(X_test, y_test))\n",
    "print('Train accuracy %0.3f' %linear_svm.score(X_train, y_train))"
   ]
  },
  {
   "cell_type": "code",
   "execution_count": 107,
   "metadata": {
    "collapsed": false
   },
   "outputs": [
    {
     "name": "stdout",
     "output_type": "stream",
     "text": [
      "otherwis\n",
      "clearli\n",
      "remot\n",
      "gt\n",
      "visa\n",
      "base\n",
      "doesn\n",
      "wife\n",
      "previous\n",
      "player\n"
     ]
    }
   ],
   "source": [
    "#Check the words that are more likely to be an indicator of a spam\n",
    "\n",
    "weights_idx = np.argsort(linear_svm.coef_).reshape(linear_svm.coef_.shape[1], 1)[::-1]\n",
    "vocab = vocabDict(reverse=True)\n",
    "\n",
    "#print top 10 words\n",
    "for i in weights_idx[:10]:\n",
    "    print(vocab[int(i)])"
   ]
  },
  {
   "cell_type": "code",
   "execution_count": null,
   "metadata": {
    "collapsed": true
   },
   "outputs": [],
   "source": []
  }
 ],
 "metadata": {
  "kernelspec": {
   "display_name": "Python 2",
   "language": "python",
   "name": "python2"
  },
  "language_info": {
   "codemirror_mode": {
    "name": "ipython",
    "version": 2
   },
   "file_extension": ".py",
   "mimetype": "text/x-python",
   "name": "python",
   "nbconvert_exporter": "python",
   "pygments_lexer": "ipython2",
   "version": "2.7.13"
  }
 },
 "nbformat": 4,
 "nbformat_minor": 2
}
